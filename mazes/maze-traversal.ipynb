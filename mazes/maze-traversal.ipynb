{
 "cells": [
  {
   "cell_type": "markdown",
   "source": [
    "**Resources**\n",
    "<!-- {{< youtube akZ8JJ4gGLs >}} -->\n",
    "<!-- {{< tweet 1266579585417613312 >}} -->\n",
    "[Smoothstep](https://smoothstep.io/)\n",
    "\n",
    "- Breadth First Search\n",
    "- Dijkstra's algorithm/Fast Marching Method for solving the Eikonal equation?\n",
    "- BFS is generalized as Disjkstra, which is generalized as Fast Marching, then as Ordered Upwind method, then as Anisotropic Fast Marching\n",
    "\n",
    "- Hex mazes\n",
    "- Bellman-Ford Algorithm\n",
    "- Fast Marching Algorithm (FMM), eikonal equation\n",
    "- Art: https://troika.uk.com/work/troika-labyrinth/\n",
    "- https://en.wikipedia.org/wiki/Lee_algorithm\n",
    "- [Procedural Content Generation: Mazes](http://pcg.wikidot.com/pcg-algorithm:maze)\n",
    "- [Wikipedia Maze Generation Algorithms](https://en.wikipedia.org/wiki/Maze_generation_algorithm)\n",
    "\n",
    "\n",
    "Solving a Maze\n",
    "- https://en.wikipedia.org/wiki/Maze-solving_algorithm\n",
    "\n",
    "\n",
    "Per wikipedia:\n",
    "> The best-known rule for traversing mazes is the wall follower, also known as either the left-hand rule or the right-hand rule. If the maze is simply connected, that is, all its walls are connected together or to the maze's outer boundary, then by keeping one hand in contact with one wall of the maze the solver is guaranteed not to get lost and will reach a different exit if there is one; otherwise, the algorithm will return to the entrance having traversed every corridor next to that connected section of walls at least once. The algorithm is a depth-first in-order tree traversal.\n",
    "\n",
    "For autonomous agents I perhaps one of these will be suitable.\n",
    "- [Maze Routing Algorithm](https://en.wikipedia.org/wiki/Maze-solving_algorithm#Maze-routing_algorithm)\n",
    "- [Shortest Path Algorithms](https://en.wikipedia.org/wiki/Maze-solving_algorithm#Shortest_path_algorithm)\n",
    "\n",
    "\n",
    "What do I really want to do here?\n",
    "- Ultimately, I want to get back to working on the game. \n",
    "For NPCs:\n",
    "  - Find the shortest distance between to points. Example enter/exit the maze.\n",
    "  - Follow another character in the maze.\n",
    "  - Search for an item in the maze.\n",
    "  - animate moving a maze explorer\n",
    "  - draw out the solution and possibly rejected solutions.\n",
    "  - The AI should only have knowledge of the rooms its visited and the room it's\n",
    "    currently in. Is that true though?\n",
    "\n",
    "Questions\n",
    "- What algorithm does Godot use?\n",
    "  A* and \n",
    "\n",
    "Next Steps\n",
    "- Try doing a simple animation using iPyCanvas. \n",
    "- Need a way to make an animated gif from the animation if I'm going to be able\n",
    "  to put it on the blog.\n",
    "- Agent that just walks the maze randomly.\n",
    "- Agent that uses an algorithm for traversing.\n",
    "- Multiple agents interacting (chasing, hiding)\n",
    "- It may make sense to generate the same maze every time. Perhaps seed the random number generator. "
   ],
   "metadata": {}
  },
  {
   "cell_type": "code",
   "execution_count": null,
   "source": [
    "# Load python code.\n",
    "%load_ext autoreload\n",
    "%autoreload 2"
   ],
   "outputs": [],
   "metadata": {}
  },
  {
   "cell_type": "code",
   "execution_count": 1,
   "source": [
    "# Generate a maze.\n",
    "from ipycanvas import Canvas,  hold_canvas\n",
    "\n",
    "from generation.structures import Point\n",
    "from generation.maze import Maze\n",
    "from generation.generators.random_backtracer import generate_maze_walls\n",
    "from generation.renderers.wall_drawer import draw_maze, animate_drawing_by_rooms\n",
    "from generation.renderers.agents_renderer import draw_agents\n",
    "from generation.npc import Agent\n",
    "\n",
    "maze: Maze = Maze(40, 40)\n",
    "generate_maze_walls(maze)\n",
    "canvas = Canvas(width=800, height=800)\n",
    "\n",
    "# Create a new function animate_drawing_maze.\n",
    "display(canvas)\n",
    "draw_maze(maze, canvas)\n",
    "\n",
    "# I want a couple of agents trying to escape the maze.\n",
    "rogue = Agent('red')\n",
    "\n",
    "# Place the rouge in the center of the maze\n",
    "rogue.location = Point(maze.width/2, maze.height/2)\n",
    "\n",
    "agents = []\n",
    "agents.append(rogue)\n",
    "\n",
    "draw_agents(agents, canvas)"
   ],
   "outputs": [
    {
     "output_type": "stream",
     "name": "stdout",
     "text": [
      "Exit cell: Point(x=28, y=39)\n"
     ]
    },
    {
     "output_type": "display_data",
     "data": {
      "application/vnd.jupyter.widget-view+json": {
       "version_major": 2,
       "version_minor": 0,
       "model_id": "a047d9ed62744ab28d7638b9ddb8ef1d"
      },
      "text/plain": [
       "Canvas(height=800, width=800)"
      ]
     },
     "metadata": {}
    }
   ],
   "metadata": {}
  },
  {
   "cell_type": "code",
   "execution_count": null,
   "source": [
    "from ipywidgets import Output\n",
    "from ipycanvas import Canvas, hold_canvas\n",
    "from threading import Thread\n",
    "import numpy as np\n",
    "import time\n",
    "from IPython.display import display, Image\n",
    "from moviepy.editor import ImageSequenceClip\n",
    "\n",
    "out = Output()\n",
    "\n",
    "# 1000/125 = 8 FPS\n",
    "SLEEP_TIME_SEC:float = 0.125\n",
    "\n",
    "class Renderer:\n",
    "    def __init__(self, canvas):\n",
    "        self.frames = []\n",
    "        self.canvas = canvas\n",
    "        self.canvas.observe(self.get_array, 'image_data')\n",
    "        self.setup_canvas()\n",
    "        \n",
    "    @out.capture()\n",
    "    def get_array(self, *args, **kwargs):\n",
    "        print(\"get_array called\")\n",
    "        arr = self.canvas.get_image_data()\n",
    "        self.frames.append(arr)\n",
    "        \n",
    "    def setup_canvas(self):\n",
    "        self.canvas.fill_style = 'white'\n",
    "        self.canvas.fill_rect(0,0,self.canvas.width, self.canvas.height)\n",
    "        \n",
    "    def render(self, x):\n",
    "        self.canvas.stroke_line(50, 10+(x*5), 150, 10+(x*5))\n",
    "        \n",
    "class MyThread(Thread):\n",
    "    def __init__(self, renderer):\n",
    "        super(MyThread, self).__init__()\n",
    "        self.renderer = renderer\n",
    "    \n",
    "    def run(self):\n",
    "        for i in range(8):\n",
    "            self.renderer.render(i)\n",
    "            time.sleep(SLEEP_TIME_SEC)\n",
    "        self.on_complete()    \n",
    "\n",
    "    def on_complete(self):\n",
    "        self.save_gif()\n",
    "        \n",
    "    def save_gif(self):\n",
    "        # save it as a gif\n",
    "        print(f\"Number of frames: {len(self.renderer.frames)}\")\n",
    "        clip = ImageSequenceClip(list(self.renderer.frames), fps=8)\n",
    "        clip.write_gif('test.gif', fps=8)\n",
    "        Image('test.gif')\n",
    "\n",
    "# display(out)\n",
    "# canvas = Canvas(width=200, height=200, sync_image_data=True)\n",
    "# renderer = Renderer(canvas)\n",
    "# thread = MyThread(renderer)\n",
    "\n",
    "# display(canvas)\n",
    "# thread.start()"
   ],
   "outputs": [],
   "metadata": {
    "scrolled": true
   }
  },
  {
   "cell_type": "code",
   "execution_count": null,
   "source": [
    "# The Main Entry Point\n",
    "\n",
    "SAVE_ANIMATED_GIF = False\n",
    "\n",
    "display(out)\n",
    "canvas = Canvas(width=200, height=200, sync_image_data=True)\n",
    "renderer = Renderer(canvas, SAVE_ANIMATED_GIF)\n",
    "thread = RenderingThread(renderer, SAVE_ANIMATED_GIF)\n",
    "\n",
    "display(canvas)\n",
    "thread.start()"
   ],
   "outputs": [],
   "metadata": {}
  }
 ],
 "metadata": {
  "interpreter": {
   "hash": "84210bf52d24b6099d1e78fa56d1f2187a02b6cff456e6ae0f7526744ecbcf3a"
  },
  "kernelspec": {
   "name": "python3",
   "display_name": "Python 3.9.1 64-bit ('.venv': poetry)"
  },
  "language_info": {
   "codemirror_mode": {
    "name": "ipython",
    "version": 3
   },
   "file_extension": ".py",
   "mimetype": "text/x-python",
   "name": "python",
   "nbconvert_exporter": "python",
   "pygments_lexer": "ipython3",
   "version": "3.9.7"
  }
 },
 "nbformat": 4,
 "nbformat_minor": 2
}