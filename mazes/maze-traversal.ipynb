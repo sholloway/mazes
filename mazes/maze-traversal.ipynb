{
 "cells": [
  {
   "cell_type": "markdown",
   "metadata": {},
   "source": [
    "# Maze Traversal\n",
    "- - -\n",
    "\n",
    "This notebook generates a maze and then populates it with three autonomous agents.\n",
    "Each agent leverages a unique strategy for trying to escape the maze.\n",
    "\n",
    "## The Agents\n",
    "### The Clueless Walker\n",
    "The clueless walker simply walks in a straight line until encountering a wall.\n",
    "Once a wall is hit, the agent tries to turn right. If it can't, then it tries \n",
    "to turn left. If it cannot, then it turns around.\n",
    "\n",
    "### The Wall Follower\n",
    "The wall follower leverages the [wall following](https://en.wikipedia.org/wiki/Maze-solving_algorithm#Wall_follower) algorithm.\n",
    "\n",
    "### The Path Finder\n",
    "The path finder uses the [A* algorithm](https://en.wikipedia.org/wiki/A*_search_algorithm) \n",
    "to chart a path to the exit. It does not consider the entrance. \n",
    "\n",
    "**Resources**\n",
    "- [Smoothstep](https://smoothstep.io/)\n",
    "- Breadth First Search\n",
    "- Dijkstra's algorithm/Fast Marching Method for solving the Eikonal equation?\n",
    "- BFS is generalized as Disjkstra, which is generalized as Fast Marching, then as Ordered Upwind method, then as Anisotropic Fast Marching\n",
    "- Bellman-Ford Algorithm\n",
    "- Fast Marching Algorithm (FMM), Eikonal equation\n",
    "- [Maze Art](https://troika.uk.com/work/troika-labyrinth/)\n",
    "- [Lee Algorithm](https://en.wikipedia.org/wiki/Lee_algorithm)\n",
    "- [Procedural Content Generation: Mazes](http://pcg.wikidot.com/pcg-algorithm:maze)\n",
    "- [Wikipedia Maze Generation Algorithms](https://en.wikipedia.org/wiki/Maze_generation_algorithm)\n",
    "- [Smart Move: Intelligent Path Finding](https://www.gamedeveloper.com/programming/smart-move-intelligent-path-finding)\n",
    "- [Toward more Realistic Path Finding](https://www.gamedeveloper.com/programming/toward-more-realistic-pathfinding)\n",
    "- [AI Wisdom A* Articles](http://www.aiwisdom.com/ai_astar.html)\n",
    "- [Maze Solving Algorithm](https://en.wikipedia.org/wiki/Maze-solving_algorithm)\n",
    "- [Maze Routing Algorithm](https://en.wikipedia.org/wiki/Maze-solving_algorithm#Maze-routing_algorithm)\n",
    "- [Shortest Path Algorithms](https://en.wikipedia.org/wiki/Maze-solving_algorithm#Shortest_path_algorithm)\n",
    "\n",
    "Game Programming Gems 1 (PDF)\n",
    "- Simple Implementation: Page 248\n",
    "- Optimized Implementation: Page 279 \n",
    "- Fuzzy Logic for Video Games: Page 313\n",
    "- A Neural Net Primer: Page 324"
   ]
  },
  {
   "cell_type": "code",
   "execution_count": 291,
   "metadata": {},
   "outputs": [
    {
     "name": "stdout",
     "output_type": "stream",
     "text": [
      "The autoreload extension is already loaded. To reload it, use:\n",
      "  %reload_ext autoreload\n"
     ]
    }
   ],
   "source": [
    "# Load python code.\n",
    "%load_ext autoreload\n",
    "%autoreload 2"
   ]
  },
  {
   "cell_type": "code",
   "execution_count": 292,
   "metadata": {},
   "outputs": [],
   "source": [
    "# All imports\n",
    "from __future__ import annotations\n",
    "\n",
    "from IPython.display import display\n",
    "from ipycanvas import Canvas,  hold_canvas, MultiCanvas\n",
    "import time\n",
    "from typing import List\n",
    "\n",
    "from generation.structures import Corner, Point\n",
    "from generation.maze import Maze\n",
    "from generation.generators.random_backtracer import generate_maze_walls\n",
    "from generation.npc import Agent\n",
    "from generation.renderers.units import AGENT_SIZE, ROOM_SIZE_WIDTH, ROOM_SIZE_HEIGHT\n",
    "from generation.renderers.wall_drawer import draw_maze\n",
    "from generation.renderers.agents_renderer import draw_agents\n",
    "from generation.direction import Direction\n",
    "from generation.walkers.clueless import clueless_walk\n",
    "from generation.walkers.wall_follower import wall_follower_walk\n",
    "from generation.walkers.a_star import find_path as find_path_with_a_star, build_path_walker"
   ]
  },
  {
   "cell_type": "code",
   "execution_count": 293,
   "metadata": {},
   "outputs": [],
   "source": [
    "# Rendering Functions\n",
    "def draw_path(path: List[Point], canvas: Canvas, line_color: str) -> None:\n",
    "  \"\"\"Renders a list of points as a solid line\"\"\"\n",
    "  canvas_points = []\n",
    "\n",
    "  # Create an array of tuples for canvas to render in a single draw call.\n",
    "  print(f'Path has {len(path)} steps')\n",
    "  for location in path:\n",
    "    # Find the upper left corner for the room.\n",
    "    upper_left_corner = Corner(location.x * ROOM_SIZE_WIDTH, location.y * ROOM_SIZE_HEIGHT)\n",
    "\n",
    "    # Find the midpoint of the room.\n",
    "    horizontal_offset = ROOM_SIZE_WIDTH/2.0\n",
    "    vertical_offset = ROOM_SIZE_HEIGHT/2.0\n",
    "    midpoint = Point(upper_left_corner.x + horizontal_offset, upper_left_corner.y + vertical_offset)\n",
    "\n",
    "    canvas_points.append((midpoint.x, midpoint.y))\n",
    "  \n",
    "  canvas.stroke_style = line_color\n",
    "  canvas.stroke_lines(canvas_points)\n",
    "\n",
    "def draw_legend(canvas: Canvas, frame) -> None:\n",
    "  \"\"\"Renders a legend for the maze.\"\"\"\n",
    "  LINE_HEIGHT = 14\n",
    "  FIRST_LINE = 20\n",
    "  HORIZONTAL_OFFSET = 450\n",
    "  with hold_canvas(canvas):\n",
    "    canvas.text_baseline = \"top\"\n",
    "    canvas.clear()\n",
    "\n",
    "    # Draw the frame count\n",
    "    canvas.fill_style = 'black'\n",
    "    canvas.fill_text(f'Frame: {frame}', HORIZONTAL_OFFSET, FIRST_LINE)\n",
    "\n",
    "    # Draw Wall Walker Legend\n",
    "    canvas.fill_style = 'blue'\n",
    "    canvas.fill_rect(HORIZONTAL_OFFSET,FIRST_LINE+LINE_HEIGHT, AGENT_SIZE)\n",
    "    canvas.fill_style = 'black'\n",
    "    canvas.fill_text(f'- Wall Follower', HORIZONTAL_OFFSET + AGENT_SIZE + 5, FIRST_LINE+LINE_HEIGHT)\n",
    "\n",
    "    # Draw Clueless Walker Legend\n",
    "    canvas.fill_style = 'green'\n",
    "    canvas.fill_rect(HORIZONTAL_OFFSET,FIRST_LINE+LINE_HEIGHT*2, AGENT_SIZE)\n",
    "    canvas.fill_style = 'black'\n",
    "    canvas.fill_text(f'- Clueless Walker', HORIZONTAL_OFFSET + AGENT_SIZE + 5, FIRST_LINE+LINE_HEIGHT*2)\n",
    "\n",
    "    # Draw A* Walker Legend\n",
    "    canvas.fill_style = 'yellow'\n",
    "    canvas.fill_rect(HORIZONTAL_OFFSET,FIRST_LINE+LINE_HEIGHT*3, AGENT_SIZE)\n",
    "    canvas.fill_style = 'black'\n",
    "    canvas.fill_text(f'- Path Finder', HORIZONTAL_OFFSET + AGENT_SIZE + 5, FIRST_LINE+LINE_HEIGHT*3)"
   ]
  },
  {
   "cell_type": "code",
   "execution_count": 294,
   "metadata": {},
   "outputs": [
    {
     "name": "stdout",
     "output_type": "stream",
     "text": [
      "Exit cell: Point(x=9, y=19)\n"
     ]
    },
    {
     "data": {
      "application/vnd.jupyter.widget-view+json": {
       "model_id": "25f9ea38d91f428899a989e9427fc7d1",
       "version_major": 2,
       "version_minor": 0
      },
      "text/plain": [
       "MultiCanvas(height=400, width=800)"
      ]
     },
     "metadata": {},
     "output_type": "display_data"
    },
    {
     "name": "stdout",
     "output_type": "stream",
     "text": [
      "Path has 87 steps\n"
     ]
    }
   ],
   "source": [
    "# The Main Cell\n",
    "\n",
    "# 1000/125 = 8 FPS\n",
    "SLEEP_TIME_SEC:float = 0.125\n",
    "\n",
    "# Generate a maze.\n",
    "maze: Maze = Maze(20, 20)\n",
    "generate_maze_walls(maze)\n",
    "\n",
    "# Create 4 layers of canvases. 0: Maze, 1: A* Path, 2: Agents, 3: HUD\n",
    "mc = MultiCanvas(n_canvases=4, width=800, height=400)\n",
    "display(mc)\n",
    "\n",
    "# Create NPCs with different strategies\n",
    "common_starting_point = Point(int(maze.width/2), int(maze.height/2))\n",
    "wall_follower = Agent('blue')\n",
    "wall_follower.maze_strategy(wall_follower_walk)\n",
    "wall_follower.move_to(common_starting_point)\n",
    "wall_follower.face(Direction.SOUTH)\n",
    "\n",
    "random_walker = Agent('green')\n",
    "random_walker.maze_strategy(clueless_walk)\n",
    "random_walker.move_to(common_starting_point)\n",
    "random_walker.face(Direction.SOUTH)\n",
    "\n",
    "# Calculate a path using A*\n",
    "path_finder = Agent('yellow')\n",
    "path_finder.move_to(common_starting_point)\n",
    "path_finder.face(Direction.SOUTH)\n",
    "\n",
    "found_path, escape_path = find_path_with_a_star(path_finder, maze, maze.exit_cell.location)\n",
    "if not found_path:\n",
    "  raise Exception('Failed to find a path.') \n",
    "\n",
    "path_walker = build_path_walker(escape_path)\n",
    "path_finder.maze_strategy(path_walker)\n",
    "\n",
    "agents = [wall_follower, random_walker, path_finder]\n",
    "\n",
    "# Initial Render\n",
    "draw_maze(maze, mc[0])\n",
    "draw_path(escape_path, mc[1], 'red')\n",
    "draw_agents(agents, mc[2])\n",
    "\n",
    "for frame in range(200):\n",
    "  for agent in agents:\n",
    "    agent.explore(maze)\n",
    "  draw_agents(agents, mc[2])\n",
    "  draw_legend(mc[3],frame)\n",
    "  time.sleep(SLEEP_TIME_SEC)"
   ]
  },
  {
   "cell_type": "code",
   "execution_count": null,
   "metadata": {},
   "outputs": [],
   "source": [
    "# The Main Entry Point\n",
    "\"\"\"\n",
    "SAVE_ANIMATED_GIF = False\n",
    "\n",
    "display(out)\n",
    "canvas = Canvas(width=200, height=200, sync_image_data=True)\n",
    "renderer = Renderer(canvas, SAVE_ANIMATED_GIF)\n",
    "thread = RenderingThread(renderer, SAVE_ANIMATED_GIF)\n",
    "\n",
    "display(canvas)\n",
    "thread.start()\n",
    "\"\"\"\n",
    "pass"
   ]
  }
 ],
 "metadata": {
  "interpreter": {
   "hash": "84210bf52d24b6099d1e78fa56d1f2187a02b6cff456e6ae0f7526744ecbcf3a"
  },
  "kernelspec": {
   "display_name": "Python 3.9.7 64-bit ('.venv': poetry)",
   "name": "python3"
  },
  "language_info": {
   "codemirror_mode": {
    "name": "ipython",
    "version": 3
   },
   "file_extension": ".py",
   "mimetype": "text/x-python",
   "name": "python",
   "nbconvert_exporter": "python",
   "pygments_lexer": "ipython3",
   "version": "3.9.7"
  }
 },
 "nbformat": 4,
 "nbformat_minor": 2
}
