{
 "cells": [
  {
   "cell_type": "markdown",
   "source": [
    "**Resources**\n",
    "<!-- {{< youtube akZ8JJ4gGLs >}} -->\n",
    "<!-- {{< tweet 1266579585417613312 >}} -->\n",
    "[Smoothstep](https://smoothstep.io/)\n",
    "\n",
    "- Breadth First Search\n",
    "- Dijkstra's algorithm/Fast Marching Method for solving the Eikonal equation?\n",
    "- BFS is generalized as Disjkstra, which is generalized as Fast Marching, then as Ordered Upwind method, then as Anisotropic Fast Marching\n",
    "\n",
    "- Hex mazes\n",
    "- Bellman-Ford Algorithm\n",
    "- Fast Marching Algorithm (FMM), eikonal equation\n",
    "- Art: https://troika.uk.com/work/troika-labyrinth/\n",
    "- https://en.wikipedia.org/wiki/Lee_algorithm\n",
    "- [Procedural Content Generation: Mazes](http://pcg.wikidot.com/pcg-algorithm:maze)\n",
    "- [Wikipedia Maze Generation Algorithms](https://en.wikipedia.org/wiki/Maze_generation_algorithm)\n",
    "\n",
    "\n",
    "Solving a Maze\n",
    "- https://en.wikipedia.org/wiki/Maze-solving_algorithm\n",
    "\n",
    "\n",
    "Per wikipedia:\n",
    "> The best-known rule for traversing mazes is the wall follower, also known as either the left-hand rule or the right-hand rule. If the maze is simply connected, that is, all its walls are connected together or to the maze's outer boundary, then by keeping one hand in contact with one wall of the maze the solver is guaranteed not to get lost and will reach a different exit if there is one; otherwise, the algorithm will return to the entrance having traversed every corridor next to that connected section of walls at least once. The algorithm is a depth-first in-order tree traversal.\n",
    "\n",
    "For autonomous agents I perhaps one of these will be suitable.\n",
    "- [Maze Routing Algorithm](https://en.wikipedia.org/wiki/Maze-solving_algorithm#Maze-routing_algorithm)\n",
    "- [Shortest Path Algorithms](https://en.wikipedia.org/wiki/Maze-solving_algorithm#Shortest_path_algorithm)\n",
    "\n",
    "\n",
    "What do I really want to do here?\n",
    "- Ultimately, I want to get back to working on the game. \n",
    "For NPCs:\n",
    "  - Find the shortest distance between to points. Example enter/exit the maze.\n",
    "  - Follow another character in the maze.\n",
    "  - Search for an item in the maze.\n",
    "  - animate moving a maze explorer\n",
    "  - draw out the solution and possibly rejected solutions.\n",
    "  - The AI should only have knowledge of the rooms its visited and the room it's\n",
    "    currently in. Is that true though?\n",
    "\n",
    "Questions\n",
    "- What algorithm does Godot use?\n",
    "  A* and \n",
    "\n",
    "Next Steps\n",
    "- Try doing a simple animation using iPyCanvas. \n",
    "- Need a way to make an animated gif from the animation if I'm going to be able\n",
    "  to put it on the blog.\n",
    "- Agent that just walks the maze randomly.\n",
    "- Agent that uses an algorithm for traversing.\n",
    "- Multiple agents interacting (chasing, hiding)\n",
    "- It may make sense to generate the same maze every time. Perhaps seed the random number generator. "
   ],
   "metadata": {}
  },
  {
   "cell_type": "code",
   "execution_count": 1,
   "source": [
    "# Load python code.\n",
    "%load_ext autoreload\n",
    "%autoreload 2"
   ],
   "outputs": [],
   "metadata": {}
  },
  {
   "cell_type": "code",
   "execution_count": 2,
   "source": [
    "# All imports\n",
    "from ipycanvas import Canvas,  hold_canvas\n",
    "import random\n",
    "import time\n",
    "from typing import List\n",
    "\n",
    "from generation.structures import Point\n",
    "from generation.maze import Maze\n",
    "from generation.generators.random_backtracer import generate_maze_walls\n",
    "from generation.npc import Agent\n",
    "from generation.renderers.wall_drawer import draw_maze, animate_drawing_by_rooms\n",
    "from generation.renderers.agents_renderer import draw_agents\n",
    "from generation.direction import Direction, DIR_ORIENTATION, Orientation"
   ],
   "outputs": [],
   "metadata": {}
  },
  {
   "cell_type": "code",
   "execution_count": 3,
   "source": [
    "def find_next_direction(agent: Agent, possible_directions: list[Direction]) -> Direction:\n",
    "  \"\"\"The agent is facing a direction. I think it should continue in the same direction\n",
    "  if possible. If not it should try right, then left. Finally, backtrack.\"\"\"\n",
    "  current_orientation: dict[Orientation, Direction] = DIR_ORIENTATION[agent.facing]\n",
    "  if agent.facing in possible_directions:\n",
    "    next_direction = agent.facing\n",
    "  elif current_orientation[Orientation.RIGHT] in possible_directions: # Is there a door to the right?\n",
    "    next_direction = current_orientation[Orientation.RIGHT]\n",
    "  elif current_orientation[Orientation.LEFT]  in possible_directions: # Is there a door to the left?\n",
    "    next_direction = current_orientation[Orientation.LEFT]\n",
    "  elif current_orientation[Orientation.BEHIND] in possible_directions: # Go back the way we came?\n",
    "    next_direction = current_orientation[Orientation.BEHIND]\n",
    "  else:\n",
    "    # This shouldn't be possible\n",
    "    print('We\\'re walled in!')\n",
    "    print(f'Agent Facing: {agent.facing}')\n",
    "    print(f'Possible Directions: {possible_directions}')\n",
    "    print(f'Agent Orientation: {current_orientation}')\n",
    "    raise Exception(\"We\\'re walled in! No possible doors found.\")\n",
    "  return next_direction\n",
    "\n",
    "# Traversal\n",
    "def random_walk(agent: Agent, maze: Maze):\n",
    "  \"\"\"\n",
    "  Given an agent, have them randomly choose a room to go to next, then move.\n",
    "  \"\"\"\n",
    "  # 1. Get the current room the agent is in.\n",
    "  current_room = maze.cell(agent.location)\n",
    "\n",
    "  # 2. Find all the walls that have doors in that room.\n",
    "  possible_directions: List[Direction] = current_room.open_sides()\n",
    "\n",
    "  # 3. Find the next direction to go.\n",
    "  next_direction = find_next_direction(agent, possible_directions)\n",
    "\n",
    "  # 4. Find the location of the room the open door connects to.\n",
    "  next_location: Point = maze.find_adjacent_neighbor(next_direction, agent.location)\n",
    "\n",
    "  # 5. Move the agent to the next room.\n",
    "  agent.face(next_direction)\n",
    "  agent.move_to(next_location)\n",
    "\n",
    "  # TODO. Don't pick the door that you came through unless it's the only option.\n",
    "  # Consider using a Stack to track every room the agent has visited.\n",
    "  # What should happen if there is a dead end?"
   ],
   "outputs": [],
   "metadata": {}
  },
  {
   "cell_type": "code",
   "execution_count": 9,
   "source": [
    "# 1000/125 = 8 FPS\n",
    "SLEEP_TIME_SEC:float = 0.125\n",
    "\n",
    "# Generate a maze.\n",
    "maze: Maze = Maze(20, 20)\n",
    "generate_maze_walls(maze)\n",
    "canvas = Canvas(width=800, height=400)\n",
    "display(canvas)\n",
    "\n",
    "# Place the rouge in the center of the maze\n",
    "rogue = Agent('blue')\n",
    "rogue.move_to(Point(maze.width/2, maze.height/2))\n",
    "rogue.face(Direction.SOUTH)\n",
    "\n",
    "agents = []\n",
    "agents.append(rogue)\n",
    "\n",
    "# Initial Render\n",
    "draw_maze(maze, canvas)\n",
    "draw_agents(agents, canvas)\n",
    "\n",
    "for i in range(200):\n",
    "  # canvas.fill_style = 'white'\n",
    "  # canvas.fill_rect(0,0, canvas.width, canvas.height)\n",
    "  for agent in agents:\n",
    "    random_walk(agent, maze)\n",
    "  draw_agents(agents, canvas)\n",
    "  time.sleep(SLEEP_TIME_SEC)"
   ],
   "outputs": [
    {
     "output_type": "stream",
     "name": "stdout",
     "text": [
      "Exit cell: Point(x=17, y=19)\n"
     ]
    },
    {
     "output_type": "display_data",
     "data": {
      "application/vnd.jupyter.widget-view+json": {
       "version_major": 2,
       "version_minor": 0,
       "model_id": "295602a9a81b4a1ba70b06f5b1c6b31e"
      },
      "text/plain": [
       "Canvas(height=400, width=800)"
      ]
     },
     "metadata": {}
    },
    {
     "output_type": "error",
     "ename": "KeyboardInterrupt",
     "evalue": "",
     "traceback": [
      "\u001b[0;31m---------------------------------------------------------------------------\u001b[0m",
      "\u001b[0;31mKeyboardInterrupt\u001b[0m                         Traceback (most recent call last)",
      "\u001b[0;32m/var/folders/x4/2wk6gd_d5fl0b42kmvncvvpc0000gn/T/ipykernel_24806/3550079101.py\u001b[0m in \u001b[0;36m<module>\u001b[0;34m\u001b[0m\n\u001b[1;32m     26\u001b[0m     \u001b[0mrandom_walk\u001b[0m\u001b[0;34m(\u001b[0m\u001b[0magent\u001b[0m\u001b[0;34m,\u001b[0m \u001b[0mmaze\u001b[0m\u001b[0;34m)\u001b[0m\u001b[0;34m\u001b[0m\u001b[0;34m\u001b[0m\u001b[0m\n\u001b[1;32m     27\u001b[0m   \u001b[0mdraw_agents\u001b[0m\u001b[0;34m(\u001b[0m\u001b[0magents\u001b[0m\u001b[0;34m,\u001b[0m \u001b[0mcanvas\u001b[0m\u001b[0;34m)\u001b[0m\u001b[0;34m\u001b[0m\u001b[0;34m\u001b[0m\u001b[0m\n\u001b[0;32m---> 28\u001b[0;31m   \u001b[0mtime\u001b[0m\u001b[0;34m.\u001b[0m\u001b[0msleep\u001b[0m\u001b[0;34m(\u001b[0m\u001b[0mSLEEP_TIME_SEC\u001b[0m\u001b[0;34m)\u001b[0m\u001b[0;34m\u001b[0m\u001b[0;34m\u001b[0m\u001b[0m\n\u001b[0m",
      "\u001b[0;31mKeyboardInterrupt\u001b[0m: "
     ]
    }
   ],
   "metadata": {}
  },
  {
   "cell_type": "code",
   "execution_count": 5,
   "source": [
    "# Let's skip this for right now when running all.\n",
    "\n",
    "from ipywidgets import Output\n",
    "from ipycanvas import Canvas, hold_canvas\n",
    "from threading import Thread\n",
    "import numpy as np\n",
    "import time\n",
    "from IPython.display import display, Image\n",
    "from moviepy.editor import ImageSequenceClip\n",
    "\n",
    "out = Output()\n",
    "\n",
    "# 1000/125 = 8 FPS\n",
    "SLEEP_TIME_SEC:float = 0.125\n",
    "\n",
    "class Renderer:\n",
    "    def __init__(self, canvas):\n",
    "        self.frames = []\n",
    "        self.canvas = canvas\n",
    "        self.canvas.observe(self.get_array, 'image_data')\n",
    "        self.setup_canvas()\n",
    "        \n",
    "    @out.capture()\n",
    "    def get_array(self, *args, **kwargs):\n",
    "        print(\"get_array called\")\n",
    "        arr = self.canvas.get_image_data()\n",
    "        self.frames.append(arr)\n",
    "        \n",
    "    def setup_canvas(self):\n",
    "        self.canvas.fill_style = 'white'\n",
    "        self.canvas.fill_rect(0,0,self.canvas.width, self.canvas.height)\n",
    "        \n",
    "    def render(self, x):\n",
    "        self.canvas.stroke_line(50, 10+(x*5), 150, 10+(x*5))\n",
    "        \n",
    "class MyThread(Thread):\n",
    "    def __init__(self, renderer):\n",
    "        super(MyThread, self).__init__()\n",
    "        self.renderer = renderer\n",
    "    \n",
    "    def run(self):\n",
    "        for i in range(8):\n",
    "            self.renderer.render(i)\n",
    "            time.sleep(SLEEP_TIME_SEC)\n",
    "        self.on_complete()    \n",
    "\n",
    "    def on_complete(self):\n",
    "        self.save_gif()\n",
    "        \n",
    "    def save_gif(self):\n",
    "        # save it as a gif\n",
    "        print(f\"Number of frames: {len(self.renderer.frames)}\")\n",
    "        clip = ImageSequenceClip(list(self.renderer.frames), fps=8)\n",
    "        clip.write_gif('test.gif', fps=8)\n",
    "        Image('test.gif')\n",
    "\n",
    "# display(out)\n",
    "# canvas = Canvas(width=200, height=200, sync_image_data=True)\n",
    "# renderer = Renderer(canvas)\n",
    "# thread = MyThread(renderer)\n",
    "\n",
    "# display(canvas)\n",
    "# thread.start()"
   ],
   "outputs": [],
   "metadata": {
    "scrolled": true
   }
  },
  {
   "cell_type": "code",
   "execution_count": 6,
   "source": [
    "# The Main Entry Point\n",
    "\"\"\"\n",
    "SAVE_ANIMATED_GIF = False\n",
    "\n",
    "display(out)\n",
    "canvas = Canvas(width=200, height=200, sync_image_data=True)\n",
    "renderer = Renderer(canvas, SAVE_ANIMATED_GIF)\n",
    "thread = RenderingThread(renderer, SAVE_ANIMATED_GIF)\n",
    "\n",
    "display(canvas)\n",
    "thread.start()\n",
    "\"\"\""
   ],
   "outputs": [
    {
     "output_type": "execute_result",
     "data": {
      "text/plain": [
       "'\\nSAVE_ANIMATED_GIF = False\\n\\ndisplay(out)\\ncanvas = Canvas(width=200, height=200, sync_image_data=True)\\nrenderer = Renderer(canvas, SAVE_ANIMATED_GIF)\\nthread = RenderingThread(renderer, SAVE_ANIMATED_GIF)\\n\\ndisplay(canvas)\\nthread.start()\\n'"
      ]
     },
     "metadata": {},
     "execution_count": 6
    }
   ],
   "metadata": {}
  }
 ],
 "metadata": {
  "interpreter": {
   "hash": "84210bf52d24b6099d1e78fa56d1f2187a02b6cff456e6ae0f7526744ecbcf3a"
  },
  "kernelspec": {
   "name": "python3",
   "display_name": "Python 3.9.1 64-bit ('.venv': poetry)"
  },
  "language_info": {
   "codemirror_mode": {
    "name": "ipython",
    "version": 3
   },
   "file_extension": ".py",
   "mimetype": "text/x-python",
   "name": "python",
   "nbconvert_exporter": "python",
   "pygments_lexer": "ipython3",
   "version": "3.9.7"
  }
 },
 "nbformat": 4,
 "nbformat_minor": 2
}