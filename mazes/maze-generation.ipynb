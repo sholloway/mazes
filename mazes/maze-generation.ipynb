{
 "cells": [
  {
   "cell_type": "markdown",
   "source": [
    "# Hi"
   ],
   "metadata": {}
  },
  {
   "cell_type": "code",
   "execution_count": 32,
   "source": [
    "# Load dependencies\n",
    "# import numpy as np\n",
    "from ipycanvas import Canvas,  hold_canvas\n",
    "canvas = Canvas(width=800, height=800)"
   ],
   "outputs": [],
   "metadata": {}
  },
  {
   "cell_type": "markdown",
   "source": [
    "## The First Maze\n",
    "Leverage the \"recursive backtracker\" algorithm. It is a randomized version of the depth-first search algorithm.\n",
    "\n",
    "### The Recursive Algorithm\n",
    "1. Given a current cell as a parameter, Mark the current cell as visited.\n",
    "2. While the current cell has any unvisited neighbor cells:\n",
    "  1. Choose one of the unvisited neighbors.\n",
    "  2. Remove the wall between the current cell and the chosen cell.\n",
    "  3. Invoke the routine recursively for a chosen cell.\n",
    "\n",
    "### The Iterative Algorithm\n",
    "To avoid a deep recursive, a stack can be used.\n",
    "\n",
    "1. Choose the initial cell, mark it as visited and push it to the stack.\n",
    "2. While the stack is not empty:\n",
    "  1. Pop a cell from the stack and make it a current cell.\n",
    "  2. If the current cell has any neighbors which have not been visited:\n",
    "    1. Push the current cell to the stack.\n",
    "    2. Choose one of the unvisited neighbors.\n",
    "    3. Remove the wall between the current cell and the chosen cell.\n",
    "    4. Mark the chosen cell as visited and push it to the stack.\n",
    "\n",
    "### The Data Structures\n",
    "A maze is composed of traversable \"cells\". For my purposes a cell is defined as:\n",
    "- Fixed size. The cell cannot grow or shrink.\n",
    "- Fixed in place. Cells don't move.\n",
    "- All cells are the same size.\n",
    "- Composed of 4 sides: north, south, east, west.\n"
   ],
   "metadata": {}
  },
  {
   "cell_type": "code",
   "execution_count": 33,
   "source": [
    "from typing import List, NamedTuple\n",
    "\n",
    "\"\"\"\n",
    "Represents a traversable room in a maze.\n",
    "\"\"\"\n",
    "class MazeCell:\n",
    "  north:bool = True\n",
    "  south:bool = True\n",
    "  east:bool = True\n",
    "  west:bool = True\n",
    "  visited:bool = True\n",
    "  \n",
    "  def __init__(self) -> None:\n",
    "    pass\n",
    "\n",
    "  # TODO: Probably should separate drawing logic from the cell structure.\n",
    "  # Don't want Cell to know about IpyCanvas\n",
    "  def draw() -> None:\n",
    "    pass\n",
    "\n",
    "class Corner(NamedTuple):\n",
    "  x: int\n",
    "  y: int\n",
    "\n",
    "# Typing alias for the maze.\n",
    "Maze = List[List[MazeCell]]\n",
    "\n",
    "\"\"\"\n",
    "Builds a rectangular grid of cells were all the walls are intially closed.\n",
    "\"\"\"\n",
    "def pack_grid(width: int, height: int) -> Maze:\n",
    "  maze: Maze = []\n",
    "  for h in range(height):\n",
    "    row: list[MazeCell] = []\n",
    "    for h in range(width):\n",
    "      row.append(MazeCell())\n",
    "    maze.append(row)\n",
    "  return maze\n",
    "\n",
    "\"\"\"\n",
    "Traverses the grid of cells creates a maze by opening walls.\n",
    "\"\"\"\n",
    "def generate_maze_walls(maze: Maze) -> Maze:\n",
    "  pass\n",
    "\n",
    "def draw_wall(canvas: Canvas, start: Corner, stop: Corner) -> None:\n",
    "  canvas.move_to(start.x, start.y)\n",
    "  canvas.line_to(stop.x, stop.y)\n",
    "  canvas.stroke()\n",
    "\n",
    "def draw_cell_walls(cell: MazeCell, canvas: Canvas, cell_index: int, row_index: int, room_size_width: int, room_size_height: int) -> None:\n",
    "  canvas.begin_path()\n",
    "\n",
    "  upper_left_corner = Corner(cell_index*room_size_width, row_index*room_size_height)\n",
    "  upper_right_corner = Corner(upper_left_corner.x + room_size_width, upper_left_corner.y)\n",
    "  lower_right_corner = Corner(upper_right_corner.x, upper_right_corner.y + room_size_height)\n",
    "  lower_left_corner = Corner(lower_right_corner.x - room_size_width, lower_right_corner.y)\n",
    "\n",
    "  if cell.north: draw_wall(canvas, upper_left_corner, upper_right_corner)\n",
    "  if cell.east: draw_wall(canvas, upper_right_corner, lower_right_corner)\n",
    "  if cell.south: draw_wall(canvas, lower_right_corner, lower_left_corner)\n",
    "  if cell.west: draw_wall(canvas, lower_left_corner, upper_left_corner)\n",
    "  \n",
    "  return\n",
    "\n",
    "\"\"\"Draws the maze.\"\"\"\n",
    "def draw_maze(maze: Maze, canvas: Canvas) -> Canvas:\n",
    "  room_size_width: int =  20\n",
    "  room_size_height: int = 20\n",
    "  \n",
    "  with hold_canvas(canvas):\n",
    "    canvas.line_width = 5\n",
    "    for row_index in range(len(maze)):\n",
    "      for cell_index in range(len(maze[row_index])):\n",
    "        cell = maze[row_index][cell_index]\n",
    "        draw_cell_walls(cell, canvas, cell_index, row_index, room_size_width, room_size_height)\n",
    "  return canvas;"
   ],
   "outputs": [],
   "metadata": {}
  },
  {
   "cell_type": "code",
   "execution_count": 34,
   "source": [
    "maze: Maze = pack_grid(40, 40)\n",
    "generate_maze_walls(maze)\n",
    "canvas = draw_maze(maze, canvas)\n",
    "display(canvas)"
   ],
   "outputs": [
    {
     "output_type": "display_data",
     "data": {
      "application/vnd.jupyter.widget-view+json": {
       "version_major": 2,
       "version_minor": 0,
       "model_id": "421b02f423f7445e933692143c6c9c8a"
      },
      "text/plain": [
       "Canvas(height=800, width=800)"
      ]
     },
     "metadata": {}
    }
   ],
   "metadata": {}
  }
 ],
 "metadata": {
  "interpreter": {
   "hash": "84210bf52d24b6099d1e78fa56d1f2187a02b6cff456e6ae0f7526744ecbcf3a"
  },
  "kernelspec": {
   "name": "python3",
   "display_name": "Python 3.9.1 64-bit ('.venv': poetry)"
  },
  "language_info": {
   "codemirror_mode": {
    "name": "ipython",
    "version": 3
   },
   "file_extension": ".py",
   "mimetype": "text/x-python",
   "name": "python",
   "nbconvert_exporter": "python",
   "pygments_lexer": "ipython3",
   "version": "3.9.1"
  }
 },
 "nbformat": 4,
 "nbformat_minor": 2
}