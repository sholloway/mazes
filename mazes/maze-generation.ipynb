{
 "cells": [
  {
   "cell_type": "markdown",
   "source": [
    "# Hi"
   ],
   "metadata": {}
  },
  {
   "cell_type": "code",
   "execution_count": 5,
   "source": [
    "# Load dependencies\n",
    "# import numpy as np\n",
    "from ipycanvas import Canvas,  hold_canvas\n",
    "canvas = Canvas(width=800, height=600)"
   ],
   "outputs": [],
   "metadata": {}
  },
  {
   "cell_type": "markdown",
   "source": [
    "## The First Maze\n",
    "Leverage the \"recursive backtracker\" algorithm. It is a randomized version of the depth-first search algorithm.\n",
    "\n",
    "### The Recursive Algorithm\n",
    "1. Given a current cell as a parameter, Mark the current cell as visited.\n",
    "2. While the current cell has any unvisited neighbor cells:\n",
    "  1. Choose one of the unvisited neighbors.\n",
    "  2. Remove the wall between the current cell and the chosen cell.\n",
    "  3. Invoke the routine recursively for a chosen cell.\n",
    "\n",
    "### The Iterative Algorithm\n",
    "To avoid a deep recursive, a stack can be used.\n",
    "\n",
    "1. Choose the initial cell, mark it as visited and push it to the stack.\n",
    "2. While the stack is not empty:\n",
    "  1. Pop a cell from the stack and make it a current cell.\n",
    "  2. If the current cell has any neighbors which have not been visited:\n",
    "    1. Push the current cell to the stack.\n",
    "    2. Choose one of the unvisited neighbors.\n",
    "    3. Remove the wall between the current cell and the chosen cell.\n",
    "    4. Mark the chosen cell as visited and push it to the stack.\n",
    "\n",
    "### The Data Structures\n"
   ],
   "metadata": {}
  },
  {
   "cell_type": "code",
   "execution_count": 6,
   "source": [
    "\n",
    "with hold_canvas(canvas):\n",
    "  canvas.fill_style = 'green'\n",
    "  canvas.line_width = 5\n",
    "  canvas.begin_path()\n",
    "  canvas.move_to(canvas.width*0.2, canvas.height/2)\n",
    "  canvas.line_to(canvas.width*0.6, canvas.height/2)\n",
    "  canvas.stroke()\n",
    "canvas"
   ],
   "outputs": [
    {
     "output_type": "display_data",
     "data": {
      "application/vnd.jupyter.widget-view+json": {
       "version_major": 2,
       "version_minor": 0,
       "model_id": "998527fb0e10476bbe4fe4def9b04e84"
      },
      "text/plain": [
       "Canvas(height=600, width=800)"
      ]
     },
     "metadata": {}
    }
   ],
   "metadata": {}
  },
  {
   "cell_type": "code",
   "execution_count": null,
   "source": [],
   "outputs": [],
   "metadata": {}
  }
 ],
 "metadata": {
  "interpreter": {
   "hash": "84210bf52d24b6099d1e78fa56d1f2187a02b6cff456e6ae0f7526744ecbcf3a"
  },
  "kernelspec": {
   "name": "python3",
   "display_name": "Python 3.9.1 64-bit ('.venv': poetry)"
  },
  "language_info": {
   "codemirror_mode": {
    "name": "ipython",
    "version": 3
   },
   "file_extension": ".py",
   "mimetype": "text/x-python",
   "name": "python",
   "nbconvert_exporter": "python",
   "pygments_lexer": "ipython3",
   "version": "3.9.1"
  }
 },
 "nbformat": 4,
 "nbformat_minor": 2
}