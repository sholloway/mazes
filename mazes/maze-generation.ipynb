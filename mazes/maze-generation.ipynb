{
 "cells": [
  {
   "cell_type": "code",
   "execution_count": 1,
   "source": [
    "# Hi"
   ],
   "outputs": [],
   "metadata": {}
  },
  {
   "cell_type": "code",
   "execution_count": 7,
   "source": [
    "# import numpy as np\n",
    "from ipycanvas import Canvas,  hold_canvas\n",
    "canvas = Canvas(width=800, height=600)"
   ],
   "outputs": [],
   "metadata": {}
  },
  {
   "cell_type": "code",
   "execution_count": 9,
   "source": [
    "\n",
    "with hold_canvas(canvas):\n",
    "  canvas.fill_style = 'green'\n",
    "  canvas.line_width = 5\n",
    "  canvas.begin_path()\n",
    "  canvas.move_to(canvas.width*0.2, canvas.height/2)\n",
    "  canvas.line_to(canvas.width*0.6, canvas.height/2)\n",
    "  canvas.stroke()\n",
    "canvas"
   ],
   "outputs": [
    {
     "output_type": "display_data",
     "data": {
      "application/vnd.jupyter.widget-view+json": {
       "version_major": 2,
       "version_minor": 0,
       "model_id": "bf72606ed1c743af926b871390b96a19"
      },
      "text/plain": [
       "Canvas(height=600, width=800)"
      ]
     },
     "metadata": {}
    }
   ],
   "metadata": {}
  },
  {
   "cell_type": "code",
   "execution_count": null,
   "source": [],
   "outputs": [],
   "metadata": {}
  }
 ],
 "metadata": {
  "interpreter": {
   "hash": "84210bf52d24b6099d1e78fa56d1f2187a02b6cff456e6ae0f7526744ecbcf3a"
  },
  "kernelspec": {
   "name": "python3",
   "display_name": "Python 3.9.1 64-bit ('.venv': poetry)"
  },
  "language_info": {
   "codemirror_mode": {
    "name": "ipython",
    "version": 3
   },
   "file_extension": ".py",
   "mimetype": "text/x-python",
   "name": "python",
   "nbconvert_exporter": "python",
   "pygments_lexer": "ipython3",
   "version": "3.9.1"
  }
 },
 "nbformat": 4,
 "nbformat_minor": 2
}