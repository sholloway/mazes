{
 "cells": [
  {
   "cell_type": "markdown",
   "source": [
    "Blah"
   ],
   "metadata": {}
  },
  {
   "cell_type": "code",
   "execution_count": 9,
   "source": [
    "# Define the Renderer and Processing Thread\n",
    "from ipywidgets import Output\n",
    "from ipycanvas import Canvas, hold_canvas\n",
    "from threading import Thread\n",
    "import numpy as np\n",
    "import time\n",
    "from IPython.display import display, Image\n",
    "from moviepy.editor import ImageSequenceClip\n",
    "from collections import namedtuple\n",
    "import math\n",
    "from collections.abc import Callable\n",
    "\n",
    "out = Output()\n",
    "\n",
    "# 1000/125 = 8 FPS = 0.125\n",
    "# 1000/40 = 25 FPS = 0.04\n",
    "\n",
    "TARGET_FPS = 25\n",
    "SLEEP_TIME_SEC:float = 0.04\n",
    "\n",
    "Ball = namedtuple('Ball', ['x', 'y', 'radius', 'fill_style', 'stroke','rotation_distance', 'speed'])\n",
    "\n",
    "class Renderer:\n",
    "  def __init__(self, canvas, save_image, ):\n",
    "    self.frames = []\n",
    "    self.canvas = canvas\n",
    "    self.canvas.observe(self.get_array, 'image_data')\n",
    "    self.setup_canvas()\n",
    "    self.save_image = save_image\n",
    "    self.ball = Ball(canvas.width/2, canvas.height/2, 10, 'blue', 'black', 50, 0.5)\n",
    "    self.ball_travel = 0\n",
    "    self._render_steps = []\n",
    "\n",
    "  def render_steps(self, render_steps: list[Callable[...,None]]) -> None:\n",
    "    self._render_steps = render_steps\n",
    "    \n",
    "  @out.capture()\n",
    "  def get_array(self, *args, **kwargs):\n",
    "    if self.save_image:\n",
    "      arr = self.canvas.get_image_data()\n",
    "      self.frames.append(arr)\n",
    "\n",
    "  def setup_canvas(self):\n",
    "    pass\n",
    "    \n",
    "  def render(self, tick):\n",
    "    with hold_canvas(self.canvas):\n",
    "      for step in self._render_steps:\n",
    "        step(canvas, self)\n",
    "      \n",
    "class RenderingThread(Thread):\n",
    "  def __init__(self, total_frames, renderer, image_name):\n",
    "    super(RenderingThread, self).__init__()\n",
    "    self.total_frames = total_frames\n",
    "    self.renderer = renderer\n",
    "    self.image_name = image_name\n",
    "\n",
    "  def run(self):\n",
    "    for i in range(self.total_frames):\n",
    "      self.renderer.render(i)\n",
    "      time.sleep(SLEEP_TIME_SEC)\n",
    "    self.on_complete()    \n",
    "\n",
    "  def on_complete(self):\n",
    "    if self.renderer.save_image:\n",
    "      self.save_gif()\n",
    "        \n",
    "  @out.capture()\n",
    "  def save_gif(self):\n",
    "    print(f\"Number of frames: {len(self.renderer.frames)}\")\n",
    "    clip = ImageSequenceClip(list(self.renderer.frames), fps=TARGET_FPS)\n",
    "    clip.write_gif(self.image_name, fps=TARGET_FPS)\n",
    "    # Image(self.image_name)"
   ],
   "outputs": [],
   "metadata": {}
  },
  {
   "cell_type": "code",
   "execution_count": 10,
   "source": [
    "# The Main Entry Point\n",
    "\n",
    "# Set this to False to do development in VSCode. \n",
    "# Set to True when running in Jupyter Notebooks\n",
    "SAVE_ANIMATED_GIF = False\n",
    "\n",
    "def clear(canvas, context):\n",
    "  canvas.fill_style = 'white'\n",
    "  canvas.fill_rect(0, 0, canvas.width, canvas.height)\n",
    "  \n",
    "def draw_ball(canvas, context):\n",
    "  canvas.fill_style = context.ball.fill_style\n",
    "  context.ball_travel += context.ball.speed\n",
    "  x_offset = math.cos(context.ball_travel) * context.ball.rotation_distance\n",
    "  y_offset = -1 * math.sin(context.ball_travel) * context.ball.rotation_distance\n",
    "  canvas.fill_circle(int(x_offset) + context.ball.x, int(y_offset) + context.ball.y, context.ball.radius)\n",
    "\n",
    "display(out)\n",
    "canvas = Canvas(width=200, height=200, sync_image_data=True)\n",
    "renderer = Renderer(canvas, SAVE_ANIMATED_GIF)\n",
    "renderer.render_steps([clear, draw_ball])\n",
    "thread = RenderingThread(100, renderer, 'test.gif')\n",
    "\n",
    "display(canvas)\n",
    "thread.start()"
   ],
   "outputs": [
    {
     "output_type": "display_data",
     "data": {
      "application/vnd.jupyter.widget-view+json": {
       "version_major": 2,
       "version_minor": 0,
       "model_id": "1330f329ab3c4ee5844a488b6b4f6180"
      },
      "text/plain": [
       "Output()"
      ]
     },
     "metadata": {}
    },
    {
     "output_type": "display_data",
     "data": {
      "application/vnd.jupyter.widget-view+json": {
       "version_major": 2,
       "version_minor": 0,
       "model_id": "2146a3ee4cd6454c939ba73b98fdd457"
      },
      "text/plain": [
       "Canvas(height=200, sync_image_data=True, width=200)"
      ]
     },
     "metadata": {}
    }
   ],
   "metadata": {}
  }
 ],
 "metadata": {
  "orig_nbformat": 4,
  "language_info": {
   "name": "python",
   "version": "3.9.7",
   "mimetype": "text/x-python",
   "codemirror_mode": {
    "name": "ipython",
    "version": 3
   },
   "pygments_lexer": "ipython3",
   "nbconvert_exporter": "python",
   "file_extension": ".py"
  },
  "kernelspec": {
   "name": "python3",
   "display_name": "Python 3.9.1 64-bit ('.venv': poetry)"
  },
  "interpreter": {
   "hash": "84210bf52d24b6099d1e78fa56d1f2187a02b6cff456e6ae0f7526744ecbcf3a"
  }
 },
 "nbformat": 4,
 "nbformat_minor": 2
}