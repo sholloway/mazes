{
 "cells": [
  {
   "cell_type": "markdown",
   "source": [
    "# Rendering an Animated GIF\n",
    "- - -\n",
    "This notebook is a bare bones example of how to render an animated GIF using \n",
    "IPYCanvas. It leverages _moviepy_ of the video encoding.\n",
    "\n",
    "## Known Limitations\n",
    "At the moment this code doesn't work in VSCode. It's confirmed to work in \n",
    "Jupyter Notebook.\n",
    "\n",
    "## Running the Notebook\n",
    "To run the notebook.\n",
    "1. Launch a poetry shell if one doesn't exist already.\n",
    "   ```shell\n",
    "   poetry shell\n",
    "   ```\n",
    "2. Start Jupyter Notebooks\n",
    "   ```shell\n",
    "   jupyter notebook\n",
    "   # A link should be displayed to open the notebook.\n",
    "   ```\n",
    "3. Open the Notebook in a browser. Do this by opening the linking in the last step.\n",
    "4. In the browser run the notebook. An the notebook should draw an animation on \n",
    "   the screen and save it as _test.gif_."
   ],
   "metadata": {}
  },
  {
   "cell_type": "code",
   "execution_count": 10,
   "source": [
    "# Define the Renderer and Processing Thread\n",
    "from ipywidgets import Output\n",
    "from ipycanvas import Canvas, hold_canvas\n",
    "from threading import Thread\n",
    "import numpy as np\n",
    "import time\n",
    "from IPython.display import display, Image\n",
    "from moviepy.editor import ImageSequenceClip\n",
    "\n",
    "out = Output()\n",
    "\n",
    "# 1000/125 = 8 FPS\n",
    "TARGET_FPS = 8\n",
    "SLEEP_TIME_SEC:float = 0.125\n",
    "\n",
    "class Renderer:\n",
    "  def __init__(self, canvas, save_image, ):\n",
    "    self.frames = []\n",
    "    self.canvas = canvas\n",
    "    self.canvas.observe(self.get_array, 'image_data')\n",
    "    self.setup_canvas()\n",
    "    self.save_image = save_image\n",
    "    \n",
    "  @out.capture()\n",
    "  def get_array(self, *args, **kwargs):\n",
    "    if self.save_image:\n",
    "      arr = self.canvas.get_image_data()\n",
    "      self.frames.append(arr)\n",
    "    \n",
    "  def setup_canvas(self):\n",
    "    self.canvas.fill_style = 'white'\n",
    "    self.canvas.fill_rect(0,0,self.canvas.width, self.canvas.height)\n",
    "    \n",
    "  def render(self, x):\n",
    "    self.canvas.stroke_line(50, 10+(x*5), 150, 10+(x*5))\n",
    "      \n",
    "class RenderingThread(Thread):\n",
    "  def __init__(self, renderer, image_name):\n",
    "    super(RenderingThread, self).__init__()\n",
    "    self.renderer = renderer\n",
    "    self.image_name = image_name\n",
    "\n",
    "  def run(self):\n",
    "    for i in range(8):\n",
    "      self.renderer.render(i)\n",
    "      time.sleep(SLEEP_TIME_SEC)\n",
    "    self.on_complete()    \n",
    "\n",
    "  def on_complete(self):\n",
    "    if self.renderer.save_image:\n",
    "      self.save_gif()\n",
    "        \n",
    "  @out.capture()\n",
    "  def save_gif(self):\n",
    "    print(f\"Number of frames: {len(self.renderer.frames)}\")\n",
    "    clip = ImageSequenceClip(list(self.renderer.frames), fps=TARGET_FPS)\n",
    "    clip.write_gif(self.image_name, fps=TARGET_FPS)\n",
    "    # Image(self.image_name)"
   ],
   "outputs": [],
   "metadata": {}
  },
  {
   "cell_type": "code",
   "execution_count": 11,
   "source": [
    "# The Main Entry Point\n",
    "\n",
    "# Set this to False to do development in VSCode. \n",
    "# Set to True when running in Jupyter Notebooks\n",
    "SAVE_ANIMATED_GIF = False\n",
    "\n",
    "display(out)\n",
    "canvas = Canvas(width=200, height=200, sync_image_data=True)\n",
    "renderer = Renderer(canvas, SAVE_ANIMATED_GIF)\n",
    "thread = RenderingThread(renderer, 'test.gif')\n",
    "\n",
    "display(canvas)\n",
    "thread.start()\n"
   ],
   "outputs": [
    {
     "output_type": "display_data",
     "data": {
      "application/vnd.jupyter.widget-view+json": {
       "version_major": 2,
       "version_minor": 0,
       "model_id": "c5f89f934aee44058b158b45c467948e"
      },
      "text/plain": [
       "Output()"
      ]
     },
     "metadata": {}
    },
    {
     "output_type": "display_data",
     "data": {
      "application/vnd.jupyter.widget-view+json": {
       "version_major": 2,
       "version_minor": 0,
       "model_id": "64ff39f6965846f2abad298f9b975832"
      },
      "text/plain": [
       "Canvas(height=200, sync_image_data=True, width=200)"
      ]
     },
     "metadata": {}
    }
   ],
   "metadata": {}
  }
 ],
 "metadata": {
  "interpreter": {
   "hash": "84210bf52d24b6099d1e78fa56d1f2187a02b6cff456e6ae0f7526744ecbcf3a"
  },
  "kernelspec": {
   "display_name": "Python 3 (ipykernel)",
   "language": "python",
   "name": "python3"
  },
  "language_info": {
   "codemirror_mode": {
    "name": "ipython",
    "version": 3
   },
   "file_extension": ".py",
   "mimetype": "text/x-python",
   "name": "python",
   "nbconvert_exporter": "python",
   "pygments_lexer": "ipython3",
   "version": "3.9.7"
  }
 },
 "nbformat": 4,
 "nbformat_minor": 2
}